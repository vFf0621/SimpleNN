{
 "cells": [
  {
   "cell_type": "code",
   "execution_count": 1,
   "metadata": {},
   "outputs": [],
   "source": [
    "\n",
    "import torch\n",
    "import torchvision\n",
    "import torch.nn as nn\n",
    "import torch.nn.functional as F\n",
    "import matplotlib.pyplot as plt\n",
    "\n",
    "epoch = 4\n",
    "lr = 0.01\n",
    "batch_size_train = 64\n",
    "batch_size_test = 1000\n",
    "\n",
    "train_loader = torch.utils.data.DataLoader(\n",
    "  torchvision.datasets.MNIST('/home/fei/Downloads', train=True, download=True,\n",
    "                             transform=torchvision.transforms.Compose([\n",
    "                               torchvision.transforms.ToTensor()])),\n",
    "  batch_size=batch_size_train, shuffle=True)\n",
    "\n",
    "test_loader = torch.utils.data.DataLoader(\n",
    "  torchvision.datasets.MNIST('/home/fei/Downloads', train=False, download=True,\n",
    "                             transform=torchvision.transforms.Compose([\n",
    "                               torchvision.transforms.ToTensor()])),\n",
    "  batch_size=batch_size_test, shuffle=True)"
   ]
  },
  {
   "cell_type": "code",
   "execution_count": 2,
   "metadata": {},
   "outputs": [],
   "source": [
    "class Net(nn.Module):\n",
    "    def __init__(self):\n",
    "        super(Net, self).__init__()\n",
    "        self.conv1 = nn.Conv2d(1, 3, 3)\n",
    "        self.conv2 = nn.Conv2d(3, 5, 2)\n",
    "        self.pooling = nn.MaxPool2d(2, 1)\n",
    "        self.fc1 = nn.Linear(24 * 24 * 5, 784 * 2)\n",
    "        self.fc2 = nn.Linear(784 * 2, 1000)\n",
    "        self.fc3 = nn.Linear(1000, 10)\n",
    "\n",
    "    def forward(self, x):\n",
    "        x = self.conv1(x)\n",
    "        x = self.conv2(x)\n",
    "        x = self.pooling(x)\n",
    "        x = F.leaky_relu(x)\n",
    "        x = x.view(-1, 24 * 24 * 5)\n",
    "        x = self.fc1(x)\n",
    "        torch.nn.Dropout()\n",
    "        x = F.leaky_relu(x)\n",
    "        x = self.fc2(x)\n",
    "        torch.nn.Dropout()\n",
    "        x = F.leaky_relu(x)\n",
    "        torch.nn.Dropout()\n",
    "        x = self.fc3(x)\n",
    "        torch.nn.Dropout()\n",
    "        return F.log_softmax(x)\n",
    "\n",
    "def train(epoch, net):\n",
    "    count = 0\n",
    "    for i in range(epoch):\n",
    "        optimizer = torch.optim.Adam(net.parameters(), lr=0.0001)\n",
    "        loss = nn.CrossEntropyLoss()\n",
    "        for i, (image, target) in enumerate(train_loader):\n",
    "            prediction = net.forward(image).cuda()\n",
    "            optimizer.zero_grad()\n",
    "            l = loss(prediction, target.cuda())\n",
    "            l.backward()\n",
    "            optimizer.step()\n",
    "            count += 1\n",
    "            plt.plot(count, l.item(), 'ro')\n",
    "        \n",
    "def test(net):\n",
    "    optimizer = torch.optim.Adam(net.parameters(), lr=0.0001)\n",
    "    loss = nn.CrossEntropyLoss()\n",
    "    for i, (image, target) in enumerate(test_loader):\n",
    "        prediction = net.forward(image)\n",
    "        l = loss(prediction, target)\n",
    "        plt.plot(i, l.item(), 'go')"
   ]
  },
  {
   "cell_type": "code",
   "execution_count": 3,
   "metadata": {},
   "outputs": [],
   "source": [
    "net = Net()"
   ]
  },
  {
   "cell_type": "code",
   "execution_count": 4,
   "metadata": {},
   "outputs": [
    {
     "name": "stderr",
     "output_type": "stream",
     "text": [
      "<ipython-input-2-5d50679eb950>:26: UserWarning: Implicit dimension choice for log_softmax has been deprecated. Change the call to include dim=X as an argument.\n",
      "  return F.log_softmax(x)\n"
     ]
    },
    {
     "data": {
      "image/png": "[encoded data removed]",
      "text/plain": [
       "<Figure size 432x288 with 1 Axes>"
      ]
     },
     "metadata": {
      "needs_background": "light"
     },
     "output_type": "display_data"
    }
   ],
   "source": [
    "train(2, net)"
   ]
  },
  {
   "cell_type": "code",
   "execution_count": 5,
   "metadata": {},
   "outputs": [
    {
     "name": "stderr",
     "output_type": "stream",
     "text": [
      "<ipython-input-2-5d50679eb950>:26: UserWarning: Implicit dimension choice for log_softmax has been deprecated. Change the call to include dim=X as an argument.\n",
      "  return F.log_softmax(x)\n"
     ]
    },
    {
     "data": {
      "image/png": "[encoded data removed]",
      "text/plain": [
       "<Figure size 432x288 with 1 Axes>"
      ]
     },
     "metadata": {
      "needs_background": "light"
     },
     "output_type": "display_data"
    }
   ],
   "source": [
    "test(net)"
   ]
  }
 ],
 "metadata": {
  "kernelspec": {
   "display_name": "Python 3",
   "language": "python",
   "name": "python3"
  },
  "language_info": {
   "codemirror_mode": {
    "name": "ipython",
    "version": 3
   },
   "file_extension": ".py",
   "mimetype": "text/x-python",
   "name": "python",
   "nbconvert_exporter": "python",
   "pygments_lexer": "ipython3",
   "version": "3.8.5"
  }
 },
 "nbformat": 4,
 "nbformat_minor": 4
}
